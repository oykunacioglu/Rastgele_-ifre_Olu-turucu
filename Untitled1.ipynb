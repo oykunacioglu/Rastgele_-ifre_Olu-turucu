{
  "nbformat": 4,
  "nbformat_minor": 0,
  "metadata": {
    "colab": {
      "provenance": [],
      "authorship_tag": "ABX9TyPshBgrWeCRh22GYea0LvbA",
      "include_colab_link": true
    },
    "kernelspec": {
      "name": "python3",
      "display_name": "Python 3"
    },
    "language_info": {
      "name": "python"
    }
  },
  "cells": [
    {
      "cell_type": "markdown",
      "metadata": {
        "id": "view-in-github",
        "colab_type": "text"
      },
      "source": [
        "<a href=\"https://colab.research.google.com/github/oykunacioglu/Rastgele_-ifre_Olu-turucu/blob/main/Untitled1.ipynb\" target=\"_parent\"><img src=\"https://colab.research.google.com/assets/colab-badge.svg\" alt=\"Open In Colab\"/></a>"
      ]
    },
    {
      "cell_type": "code",
      "execution_count": 4,
      "metadata": {
        "colab": {
          "base_uri": "https://localhost:8080/"
        },
        "id": "59GbGR9Ls75P",
        "outputId": "4f11f0cf-dbaa-460b-c1e9-c7ca551287a7"
      },
      "outputs": [
        {
          "output_type": "stream",
          "name": "stdout",
          "text": [
            "4.0\n",
            "2\n",
            "['Kiraz']\n",
            "10\n",
            "7\n",
            "kuoihuc7fu\n",
            "Şifre uzunluğunu girin (en az 4): 4\n",
            "Oluşturulan Şifre: o%3Z\n"
          ]
        }
      ],
      "source": [
        "# Şifre Oluşturucu\n",
        "import math\n",
        "import random, os, datetime\n",
        "from random import choices\n",
        "import random as r\n",
        "from random import *\n",
        "import random\n",
        "import string\n",
        "\n",
        "# Bazı temel işlemler\n",
        "print(math.sqrt(16))\n",
        "print(random.randint(1, 10))\n",
        "print(choices([\"Elma\", \"Muz\", \"Kiraz\"]))\n",
        "print(r.randint(1, 10))\n",
        "print(randint(1, 10))\n",
        "\n",
        "# Basit rastgele şifre (harf + rakam)\n",
        "sifre = ''.join(random.choices('abcdefghijklmnopqrstuvwxyz0123456789', k=10))\n",
        "print(sifre)\n",
        "\n",
        "# greetings modülü kullanımı (dışa bağımlılık, bu modül senin ortamında tanımlı olmalı)\n",
        "# import greetings # Removed the import statement\n",
        "# print(greetings.say_hello(\"John\")) # Removed the usage of the module\n",
        "\n",
        "# --- Gelişmiş Rastgele Şifre Oluşturucu ---\n",
        "\n",
        "# 1. Adım: Şifre oluşturma fonksiyonu\n",
        "def sifre_uret(uzunluk=12):\n",
        "    if uzunluk < 4:\n",
        "        raise ValueError(\"Şifre uzunluğu en az 4 karakter olmalıdır\")\n",
        "\n",
        "    # Karakter kümeleri\n",
        "    buyuk_harfler = string.ascii_uppercase\n",
        "    kucuk_harfler = string.ascii_lowercase\n",
        "    rakamlar = string.digits\n",
        "    ozel_karakterler = \"!@#$%^&*()_+-=[]{}|;:',.<>?/\"\n",
        "\n",
        "    # Her karakter türünden en az bir tane ekle\n",
        "    sifre_karakterleri = [\n",
        "        random.choice(buyuk_harfler),\n",
        "        random.choice(kucuk_harfler),\n",
        "        random.choice(rakamlar),\n",
        "        random.choice(ozel_karakterler)\n",
        "    ]\n",
        "\n",
        "    # Kalan karakterleri tüm karakterlerden seçerek tamamla\n",
        "    tum_karakterler = buyuk_harfler + kucuk_harfler + rakamlar + ozel_karakterler\n",
        "    sifre_karakterleri += random.choices(tum_karakterler, k=uzunluk - 4)\n",
        "\n",
        "    # Listeyi karıştır\n",
        "    random.shuffle(sifre_karakterleri)\n",
        "\n",
        "    # Şifreyi string'e çevir ve döndür\n",
        "    return ''.join(sifre_karakterleri)\n",
        "\n",
        "# 2. Adım: Kullanıcıdan giriş al ve şifre üret\n",
        "try:\n",
        "    girilen_uzunluk = int(input(\"Şifre uzunluğunu girin (en az 4): \"))\n",
        "    olusan_sifre = sifre_uret(girilen_uzunluk)\n",
        "    print(\"Oluşturulan Şifre:\", olusan_sifre)\n",
        "except ValueError as hata:\n",
        "    print(hata)"
      ]
    }
  ]
}